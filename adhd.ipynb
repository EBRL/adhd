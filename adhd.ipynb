{
 "metadata": {
  "name": "adhd"
 }, 
 "nbformat": 2, 
 "worksheets": [
  {
   "cells": [
    {
     "cell_type": "markdown", 
     "source": [
      "ADHD Research Diagnoses", 
      "=======================", 
      "", 
      "This is a work-in-progress notebook for determining research ADHD diagnoses.", 
      "", 
      "ADHD Diagnosis", 
      "--------------", 
      "Fits if all items meet requirements", 
      "", 
      "- DICA-IV for ADHD: YES", 
      "- Any of the following:", 
      "    - Connors' Parent Rating Scale L >= 65", 
      "    - Connors' Parent Rating Scale M >= 65", 
      "    - Connors' Teacher Rating Scale L >= 65", 
      "    - Connors' Teacher Rating Scale M >= 65", 
      "- Any of the following:", 
      "    - DuPaul's Parent Hyperactive >= 6/9", 
      "    - Du Paul's Parent Inattentive >= 6/9", 
      "    - DuPaul's Teacher Hyperactive >= 6/9", 
      "    - DuPaul's Teacher Inattentive >= 6/9", 
      "- IQ > 80", 
      "- NO for dicacd, dicamde, dicamhme, dicamdd, dicabd, dicadd, dicasad, dicapd, dicagad,dicaocd, dicasomd", 
      "", 
      "Control Diagnosis", 
      "-----------------", 
      "Fits if all items meet requirements", 
      "", 
      "- DICA-IV for ADHD: No", 
      "- All of the following:", 
      "    - Connors' Parent Rating Scale L <= 60", 
      "    - Connors' Parent Rating Scale M <= 60", 
      "    - Connors' Teacher Rating Scale L <= 60", 
      "    - Connors' Teacher Rating Scale M <= 60", 
      "- All of the following:", 
      "    - DuPaul's Parent Hyperactive <= 2/9", 
      "    - Du Paul's Parent Inattentive <= 2/9", 
      "    - DuPaul's Teacher Hyperactive <= 2/9", 
      "    - DuPaul's Teacher Inattentive <= 2/9", 
      "- IQ > 80", 
      "- NO for dicacd, dicamde, dicamhme, dicamdd, dicabd, dicadd, dicasad, dicapd, dicagad,dicaocd, dicasomd"
     ]
    }, 
    {
     "cell_type": "markdown", 
     "source": [
      "Standard imports/constants:"
     ]
    }, 
    {
     "cell_type": "code", 
     "collapsed": false, 
     "input": [
      "import pandas as pd", 
      "from redcap import Project", 
      "", 
      "URL = 'https://redcap.vanderbilt.edu/api/'"
     ], 
     "language": "python", 
     "outputs": [], 
     "prompt_number": 58
    }, 
    {
     "cell_type": "markdown", 
     "source": [
      "Read a spreadsheet that maps measures to redcap fields per project"
     ]
    }, 
    {
     "cell_type": "code", 
     "collapsed": false, 
     "input": [
      "meta = pd.read_csv('ADHD_Research_Diagnosis_Field_Names.csv', index_col='Grant')", 
      "print meta.columns", 
      "print meta.index"
     ], 
     "language": "python", 
     "outputs": [
      {
       "output_type": "stream", 
       "stream": "stdout", 
       "text": [
        "array([API, DICA-IV for ADHD, Connors' Parent Rating Scale L,", 
        "       Connors' Parent Rating Scale M, Connors' Teacher Rating Scale L,", 
        "       Connors' Teacher Rating Scale M, DuPaul's Parent Hyperactive,", 
        "       DuPaul's Parent Inattentive, DuPaul's Teacher Hyperactive,", 
        "       DuPaul's Teacher Inattentive, IQ, Meds, Yes comorbidities,", 
        "       No comorbidities], dtype=object)", 
        "array([NF, RC, LERD], dtype=object)"
       ]
      }
     ], 
     "prompt_number": 59
    }, 
    {
     "cell_type": "markdown", 
     "source": [
      "Set some useful lists for groups of measures"
     ]
    }, 
    {
     "cell_type": "code", 
     "collapsed": false, 
     "input": [
      "CONNORS = [\"Connors' Parent Rating Scale L\",\"Connors' Parent Rating Scale M\",", 
      "           \"Connors' Teacher Rating Scale L\", \"Connors' Teacher Rating Scale M\"]", 
      "DUPAUL = [\"DuPaul's Parent Hyperactive\", \"DuPaul's Parent Inattentive\",", 
      "          \"DuPaul's Teacher Hyperactive\", \"DuPaul's Teacher Inattentive\"]", 
      "BAD_COMORB = meta['No comorbidities']['NF'].split(',')"
     ], 
     "language": "python", 
     "outputs": [], 
     "prompt_number": 60
    }, 
    {
     "cell_type": "markdown", 
     "source": [
      "Grab the NF database as a DataFrame"
     ]
    }, 
    {
     "cell_type": "code", 
     "collapsed": true, 
     "input": [
      "nf = Project(URL, meta['API']['NF'])", 
      "nf_df = nf.export_records(format='df')"
     ], 
     "language": "python", 
     "outputs": [], 
     "prompt_number": 61
    }, 
    {
     "cell_type": "markdown", 
     "source": [
      "Define our two big functions, is_adhd and is_control and include a test for each"
     ]
    }, 
    {
     "cell_type": "code", 
     "collapsed": false, 
     "input": [
      "def is_adhd(rec, meta, project):", 
      "    \"\"\"Return true if record fits adhd diagnosis \"\"\"", 
      "    # DICA for ADHD", 
      "    dica_adhd = rec[meta['DICA-IV for ADHD'][project]] == 1", 
      "    # Any Connors Score >= 65?", 
      "    connors_scores_ge_65 = map(lambda x: x >= 65, map(lambda x: rec[meta[x][project]], CONNORS))", 
      "    # Any DuPaul scores >= 6?", 
      "    dupaul_ge_6 = map(lambda x: x >= 6, map(lambda x: rec[meta[x][project]], DUPAUL))", 
      "    # IQ > 80?", 
      "    iq_gt_80 = rec[meta['IQ'][project]] > 80", 
      "    # Any of the \"bad\" comorbidities", 
      "    bad_comorb_yes = map(lambda x: True if x == 1 else False, map(lambda x: rec[x], BAD_COMORB))", 
      "    if (dica_adhd and any(connors_scores_ge_65) and any(dupaul_ge_6) and iq_gt_80 and (not any(bad_comorb_yes))):", 
      "        return True", 
      "    else: return False", 
      "", 
      "# Checked by hand", 
      "assert is_adhd(nf_df.ix['158'], meta, 'NF')", 
      "", 
      "def is_control(rec, meta, project):", 
      "    \"\"\"Return true if record fits control diagnosis\"\"\"", 
      "    # DICA for ADHD", 
      "    not_dica_adhd = rec[meta['DICA-IV for ADHD'][project]] == 2", 
      "    # Any Connors Score <= 60?", 
      "    connors_scores_le_60 = map(lambda x: x <= 60, map(lambda x: rec[meta[x][project]], CONNORS))", 
      "    # Any DuPaul scores <= 2?", 
      "    dupaul_le_2 = map(lambda x: x <= 2, map(lambda x: rec[meta[x][project]], DUPAUL))", 
      "    # IQ > 80?", 
      "    iq_gt_80 = rec[meta['IQ'][project]] > 80", 
      "    # Any of the \"bad\" comorbidities", 
      "    bad_comorb_yes = map(lambda x: True if x == 1 else False, map(lambda x: rec[x], BAD_COMORB))", 
      "    if (not_dica_adhd and all(connors_scores_le_60) and all(dupaul_le_2) and iq_gt_80 and (not any(bad_comorb_yes))):", 
      "        return True", 
      "    else: return False", 
      "", 
      "# Checked by hand", 
      "assert is_control(nf_df.ix['194'], meta, 'NF')"
     ], 
     "language": "python", 
     "outputs": [], 
     "prompt_number": 62
    }, 
    {
     "cell_type": "code", 
     "collapsed": true, 
     "input": [], 
     "language": "python", 
     "outputs": [], 
     "prompt_number": 62
    }
   ]
  }
 ]
}