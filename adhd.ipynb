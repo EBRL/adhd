{
 "metadata": {
  "name": "adhd"
 },
 "nbformat": 3,
 "nbformat_minor": 0,
 "worksheets": [
  {
   "cells": [
    {
     "cell_type": "markdown",
     "metadata": {},
     "source": [
      "ADHD Research Diagnoses\n",
      "=======================\n",
      "\n",
      "This is a work-in-progress notebook for determining research ADHD diagnoses.\n",
      "\n",
      "ADHD Diagnosis\n",
      "--------------\n",
      "Fits if all items meet requirements\n",
      "\n",
      "- DICA-IV for ADHD: YES\n",
      "- Any of the following:\n",
      "    - Connors' Parent Rating Scale L >= 65\n",
      "    - Connors' Parent Rating Scale M >= 65\n",
      "    - Connors' Teacher Rating Scale L >= 65\n",
      "    - Connors' Teacher Rating Scale M >= 65\n",
      "- Any of the following:\n",
      "    - DuPaul's Parent Hyperactive >= 6/9\n",
      "    - Du Paul's Parent Inattentive >= 6/9\n",
      "    - DuPaul's Teacher Hyperactive >= 6/9\n",
      "    - DuPaul's Teacher Inattentive >= 6/9\n",
      "- IQ > 80\n",
      "- NO for dicacd, dicamde, dicamhme, dicamdd, dicabd, dicadd, dicasad, dicapd, dicagad,dicaocd, dicasomd\n",
      "\n",
      "Control Diagnosis\n",
      "-----------------\n",
      "Fits if all items meet requirements\n",
      "\n",
      "- DICA-IV for ADHD: No\n",
      "- All of the following:\n",
      "    - Connors' Parent Rating Scale L <= 60\n",
      "    - Connors' Parent Rating Scale M <= 60\n",
      "    - Connors' Teacher Rating Scale L <= 60\n",
      "    - Connors' Teacher Rating Scale M <= 60\n",
      "- All of the following:\n",
      "    - DuPaul's Parent Hyperactive <= 2/9\n",
      "    - Du Paul's Parent Inattentive <= 2/9\n",
      "    - DuPaul's Teacher Hyperactive <= 2/9\n",
      "    - DuPaul's Teacher Inattentive <= 2/9\n",
      "- IQ > 80\n",
      "- NO for dicacd, dicamde, dicamhme, dicamdd, dicabd, dicadd, dicasad, dicapd, dicagad,dicaocd, dicasomd"
     ]
    },
    {
     "cell_type": "markdown",
     "metadata": {},
     "source": [
      "Standard imports/constants:"
     ]
    },
    {
     "cell_type": "code",
     "collapsed": false,
     "input": [
      "import pandas as pd\n",
      "from redcap import Project\n",
      "\n",
      "URL = 'https://redcap.vanderbilt.edu/api/'"
     ],
     "language": "python",
     "metadata": {},
     "outputs": [],
     "prompt_number": 58
    },
    {
     "cell_type": "markdown",
     "metadata": {},
     "source": [
      "Read a spreadsheet that maps measures to redcap fields per project"
     ]
    },
    {
     "cell_type": "code",
     "collapsed": false,
     "input": [
      "meta = pd.read_csv('ADHD_Research_Diagnosis_Field_Names.csv', index_col='Grant')\n",
      "print meta.columns\n",
      "print meta.index"
     ],
     "language": "python",
     "metadata": {},
     "outputs": [
      {
       "output_type": "stream",
       "stream": "stdout",
       "text": [
        "array([API, DICA-IV for ADHD, Connors' Parent Rating Scale L,\n",
        "       Connors' Parent Rating Scale M, Connors' Teacher Rating Scale L,\n",
        "       Connors' Teacher Rating Scale M, DuPaul's Parent Hyperactive,\n",
        "       DuPaul's Parent Inattentive, DuPaul's Teacher Hyperactive,\n",
        "       DuPaul's Teacher Inattentive, IQ, Meds, Yes comorbidities,\n",
        "       No comorbidities], dtype=object)\n",
        "array([NF, RC, LERD], dtype=object)"
       ]
      }
     ],
     "prompt_number": 59
    },
    {
     "cell_type": "markdown",
     "metadata": {},
     "source": [
      "Set some useful lists for groups of measures"
     ]
    },
    {
     "cell_type": "code",
     "collapsed": false,
     "input": [
      "CONNORS = [\"Connors' Parent Rating Scale L\",\"Connors' Parent Rating Scale M\",\n",
      "           \"Connors' Teacher Rating Scale L\", \"Connors' Teacher Rating Scale M\"]\n",
      "DUPAUL = [\"DuPaul's Parent Hyperactive\", \"DuPaul's Parent Inattentive\",\n",
      "          \"DuPaul's Teacher Hyperactive\", \"DuPaul's Teacher Inattentive\"]\n",
      "BAD_COMORB = meta['No comorbidities']['NF'].split(',')"
     ],
     "language": "python",
     "metadata": {},
     "outputs": [],
     "prompt_number": 60
    },
    {
     "cell_type": "markdown",
     "metadata": {},
     "source": [
      "Grab the NF database as a DataFrame"
     ]
    },
    {
     "cell_type": "code",
     "collapsed": true,
     "input": [
      "nf = Project(URL, meta['API']['NF'])\n",
      "nf_df = nf.export_records(format='df')"
     ],
     "language": "python",
     "metadata": {},
     "outputs": [],
     "prompt_number": 61
    },
    {
     "cell_type": "markdown",
     "metadata": {},
     "source": [
      "Define our two big functions, is_adhd and is_control and include a test for each"
     ]
    },
    {
     "cell_type": "code",
     "collapsed": false,
     "input": [
      "def is_adhd(rec, meta, project):\n",
      "    \"\"\"Return true if record fits adhd diagnosis \"\"\"\n",
      "    # DICA for ADHD\n",
      "    dica_adhd = rec[meta['DICA-IV for ADHD'][project]] == 1\n",
      "    # Any Connors Score >= 65?\n",
      "    connors_scores_ge_65 = map(lambda x: x >= 65, map(lambda x: rec[meta[x][project]], CONNORS))\n",
      "    # Any DuPaul scores >= 6?\n",
      "    dupaul_ge_6 = map(lambda x: x >= 6, map(lambda x: rec[meta[x][project]], DUPAUL))\n",
      "    # IQ > 80?\n",
      "    iq_gt_80 = rec[meta['IQ'][project]] > 80\n",
      "    # Any of the \"bad\" comorbidities\n",
      "    bad_comorb_yes = map(lambda x: True if x == 1 else False, map(lambda x: rec[x], BAD_COMORB))\n",
      "    if (dica_adhd and any(connors_scores_ge_65) and any(dupaul_ge_6) and iq_gt_80 and (not any(bad_comorb_yes))):\n",
      "        return True\n",
      "    else: return False\n",
      "\n",
      "# Checked by hand\n",
      "assert is_adhd(nf_df.ix['158'], meta, 'NF')\n",
      "\n",
      "def is_control(rec, meta, project):\n",
      "    \"\"\"Return true if record fits control diagnosis\"\"\"\n",
      "    # DICA for ADHD\n",
      "    not_dica_adhd = rec[meta['DICA-IV for ADHD'][project]] == 2\n",
      "    # Any Connors Score <= 60?\n",
      "    connors_scores_le_60 = map(lambda x: x <= 60, map(lambda x: rec[meta[x][project]], CONNORS))\n",
      "    # Any DuPaul scores <= 2?\n",
      "    dupaul_le_2 = map(lambda x: x <= 2, map(lambda x: rec[meta[x][project]], DUPAUL))\n",
      "    # IQ > 80?\n",
      "    iq_gt_80 = rec[meta['IQ'][project]] > 80\n",
      "    # Any of the \"bad\" comorbidities\n",
      "    bad_comorb_yes = map(lambda x: True if x == 1 else False, map(lambda x: rec[x], BAD_COMORB))\n",
      "    if (not_dica_adhd and all(connors_scores_le_60) and all(dupaul_le_2) and iq_gt_80 and (not any(bad_comorb_yes))):\n",
      "        return True\n",
      "    else: return False\n",
      "\n",
      "# Checked by hand\n",
      "assert is_control(nf_df.ix['194'], meta, 'NF')"
     ],
     "language": "python",
     "metadata": {},
     "outputs": [],
     "prompt_number": 62
    },
    {
     "cell_type": "code",
     "collapsed": true,
     "input": [],
     "language": "python",
     "metadata": {},
     "outputs": [],
     "prompt_number": 62
    }
   ],
   "metadata": {}
  }
 ]
}